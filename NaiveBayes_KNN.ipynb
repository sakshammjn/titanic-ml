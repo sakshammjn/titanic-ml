{
 "cells": [
  {
   "cell_type": "code",
   "execution_count": 2,
   "id": "b7f7f18e-8146-4aba-8901-74cd4ddec17f",
   "metadata": {},
   "outputs": [
    {
     "data": {
      "text/html": [
       "<div>\n",
       "<style scoped>\n",
       "    .dataframe tbody tr th:only-of-type {\n",
       "        vertical-align: middle;\n",
       "    }\n",
       "\n",
       "    .dataframe tbody tr th {\n",
       "        vertical-align: top;\n",
       "    }\n",
       "\n",
       "    .dataframe thead th {\n",
       "        text-align: right;\n",
       "    }\n",
       "</style>\n",
       "<table border=\"1\" class=\"dataframe\">\n",
       "  <thead>\n",
       "    <tr style=\"text-align: right;\">\n",
       "      <th></th>\n",
       "      <th>PassengerId</th>\n",
       "      <th>Survived</th>\n",
       "      <th>Pclass</th>\n",
       "      <th>Name</th>\n",
       "      <th>Sex</th>\n",
       "      <th>Age</th>\n",
       "      <th>SibSp</th>\n",
       "      <th>Parch</th>\n",
       "      <th>Ticket</th>\n",
       "      <th>Fare</th>\n",
       "      <th>Cabin</th>\n",
       "      <th>Embarked</th>\n",
       "    </tr>\n",
       "  </thead>\n",
       "  <tbody>\n",
       "    <tr>\n",
       "      <th>0</th>\n",
       "      <td>1</td>\n",
       "      <td>0</td>\n",
       "      <td>3</td>\n",
       "      <td>Braund, Mr. Owen Harris</td>\n",
       "      <td>male</td>\n",
       "      <td>22.0</td>\n",
       "      <td>1</td>\n",
       "      <td>0</td>\n",
       "      <td>A/5 21171</td>\n",
       "      <td>7.2500</td>\n",
       "      <td>NaN</td>\n",
       "      <td>S</td>\n",
       "    </tr>\n",
       "    <tr>\n",
       "      <th>1</th>\n",
       "      <td>2</td>\n",
       "      <td>1</td>\n",
       "      <td>1</td>\n",
       "      <td>Cumings, Mrs. John Bradley (Florence Briggs Th...</td>\n",
       "      <td>female</td>\n",
       "      <td>38.0</td>\n",
       "      <td>1</td>\n",
       "      <td>0</td>\n",
       "      <td>PC 17599</td>\n",
       "      <td>71.2833</td>\n",
       "      <td>C85</td>\n",
       "      <td>C</td>\n",
       "    </tr>\n",
       "    <tr>\n",
       "      <th>2</th>\n",
       "      <td>3</td>\n",
       "      <td>1</td>\n",
       "      <td>3</td>\n",
       "      <td>Heikkinen, Miss. Laina</td>\n",
       "      <td>female</td>\n",
       "      <td>26.0</td>\n",
       "      <td>0</td>\n",
       "      <td>0</td>\n",
       "      <td>STON/O2. 3101282</td>\n",
       "      <td>7.9250</td>\n",
       "      <td>NaN</td>\n",
       "      <td>S</td>\n",
       "    </tr>\n",
       "    <tr>\n",
       "      <th>3</th>\n",
       "      <td>4</td>\n",
       "      <td>1</td>\n",
       "      <td>1</td>\n",
       "      <td>Futrelle, Mrs. Jacques Heath (Lily May Peel)</td>\n",
       "      <td>female</td>\n",
       "      <td>35.0</td>\n",
       "      <td>1</td>\n",
       "      <td>0</td>\n",
       "      <td>113803</td>\n",
       "      <td>53.1000</td>\n",
       "      <td>C123</td>\n",
       "      <td>S</td>\n",
       "    </tr>\n",
       "    <tr>\n",
       "      <th>4</th>\n",
       "      <td>5</td>\n",
       "      <td>0</td>\n",
       "      <td>3</td>\n",
       "      <td>Allen, Mr. William Henry</td>\n",
       "      <td>male</td>\n",
       "      <td>35.0</td>\n",
       "      <td>0</td>\n",
       "      <td>0</td>\n",
       "      <td>373450</td>\n",
       "      <td>8.0500</td>\n",
       "      <td>NaN</td>\n",
       "      <td>S</td>\n",
       "    </tr>\n",
       "  </tbody>\n",
       "</table>\n",
       "</div>"
      ],
      "text/plain": [
       "   PassengerId  Survived  Pclass  \\\n",
       "0            1         0       3   \n",
       "1            2         1       1   \n",
       "2            3         1       3   \n",
       "3            4         1       1   \n",
       "4            5         0       3   \n",
       "\n",
       "                                                Name     Sex   Age  SibSp  \\\n",
       "0                            Braund, Mr. Owen Harris    male  22.0      1   \n",
       "1  Cumings, Mrs. John Bradley (Florence Briggs Th...  female  38.0      1   \n",
       "2                             Heikkinen, Miss. Laina  female  26.0      0   \n",
       "3       Futrelle, Mrs. Jacques Heath (Lily May Peel)  female  35.0      1   \n",
       "4                           Allen, Mr. William Henry    male  35.0      0   \n",
       "\n",
       "   Parch            Ticket     Fare Cabin Embarked  \n",
       "0      0         A/5 21171   7.2500   NaN        S  \n",
       "1      0          PC 17599  71.2833   C85        C  \n",
       "2      0  STON/O2. 3101282   7.9250   NaN        S  \n",
       "3      0            113803  53.1000  C123        S  \n",
       "4      0            373450   8.0500   NaN        S  "
      ]
     },
     "execution_count": 2,
     "metadata": {},
     "output_type": "execute_result"
    }
   ],
   "source": [
    "import pandas as pd\n",
    "\n",
    "train_df = pd.read_csv(\"train.csv\")\n",
    "train_df.head()"
   ]
  },
  {
   "cell_type": "code",
   "execution_count": 3,
   "id": "3cc66bf5-6635-4273-a7af-16667ef70cdf",
   "metadata": {},
   "outputs": [
    {
     "name": "stderr",
     "output_type": "stream",
     "text": [
      "C:\\Users\\saksh\\AppData\\Local\\Temp\\ipykernel_18496\\975733517.py:5: FutureWarning: A value is trying to be set on a copy of a DataFrame or Series through chained assignment using an inplace method.\n",
      "The behavior will change in pandas 3.0. This inplace method will never work because the intermediate object on which we are setting values always behaves as a copy.\n",
      "\n",
      "For example, when doing 'df[col].method(value, inplace=True)', try using 'df.method({col: value}, inplace=True)' or df[col] = df[col].method(value) instead, to perform the operation inplace on the original object.\n",
      "\n",
      "\n",
      "  df[\"Age\"].fillna(df[\"Age\"].mean(), inplace=True)\n"
     ]
    },
    {
     "data": {
      "text/html": [
       "<div>\n",
       "<style scoped>\n",
       "    .dataframe tbody tr th:only-of-type {\n",
       "        vertical-align: middle;\n",
       "    }\n",
       "\n",
       "    .dataframe tbody tr th {\n",
       "        vertical-align: top;\n",
       "    }\n",
       "\n",
       "    .dataframe thead th {\n",
       "        text-align: right;\n",
       "    }\n",
       "</style>\n",
       "<table border=\"1\" class=\"dataframe\">\n",
       "  <thead>\n",
       "    <tr style=\"text-align: right;\">\n",
       "      <th></th>\n",
       "      <th>Pclass</th>\n",
       "      <th>Sex</th>\n",
       "      <th>Age</th>\n",
       "      <th>SibSp</th>\n",
       "      <th>Parch</th>\n",
       "      <th>Fare</th>\n",
       "      <th>Survived</th>\n",
       "    </tr>\n",
       "  </thead>\n",
       "  <tbody>\n",
       "    <tr>\n",
       "      <th>0</th>\n",
       "      <td>3</td>\n",
       "      <td>0</td>\n",
       "      <td>22.0</td>\n",
       "      <td>1</td>\n",
       "      <td>0</td>\n",
       "      <td>7.2500</td>\n",
       "      <td>0</td>\n",
       "    </tr>\n",
       "    <tr>\n",
       "      <th>1</th>\n",
       "      <td>1</td>\n",
       "      <td>1</td>\n",
       "      <td>38.0</td>\n",
       "      <td>1</td>\n",
       "      <td>0</td>\n",
       "      <td>71.2833</td>\n",
       "      <td>1</td>\n",
       "    </tr>\n",
       "    <tr>\n",
       "      <th>2</th>\n",
       "      <td>3</td>\n",
       "      <td>1</td>\n",
       "      <td>26.0</td>\n",
       "      <td>0</td>\n",
       "      <td>0</td>\n",
       "      <td>7.9250</td>\n",
       "      <td>1</td>\n",
       "    </tr>\n",
       "    <tr>\n",
       "      <th>3</th>\n",
       "      <td>1</td>\n",
       "      <td>1</td>\n",
       "      <td>35.0</td>\n",
       "      <td>1</td>\n",
       "      <td>0</td>\n",
       "      <td>53.1000</td>\n",
       "      <td>1</td>\n",
       "    </tr>\n",
       "    <tr>\n",
       "      <th>4</th>\n",
       "      <td>3</td>\n",
       "      <td>0</td>\n",
       "      <td>35.0</td>\n",
       "      <td>0</td>\n",
       "      <td>0</td>\n",
       "      <td>8.0500</td>\n",
       "      <td>0</td>\n",
       "    </tr>\n",
       "  </tbody>\n",
       "</table>\n",
       "</div>"
      ],
      "text/plain": [
       "   Pclass  Sex   Age  SibSp  Parch     Fare  Survived\n",
       "0       3    0  22.0      1      0   7.2500         0\n",
       "1       1    1  38.0      1      0  71.2833         1\n",
       "2       3    1  26.0      0      0   7.9250         1\n",
       "3       1    1  35.0      1      0  53.1000         1\n",
       "4       3    0  35.0      0      0   8.0500         0"
      ]
     },
     "execution_count": 3,
     "metadata": {},
     "output_type": "execute_result"
    }
   ],
   "source": [
    "# Select relevant columns\n",
    "df = train_df[[\"Pclass\", \"Sex\", \"Age\", \"SibSp\", \"Parch\", \"Fare\", \"Survived\"]].copy()\n",
    "\n",
    "# Fill missing Age values with the mean age\n",
    "df[\"Age\"].fillna(df[\"Age\"].mean(), inplace=True)\n",
    "\n",
    "# Convert 'Sex' from text to numeric: male=0, female=1\n",
    "df[\"Sex\"] = df[\"Sex\"].map({\"male\": 0, \"female\": 1})\n",
    "\n",
    "df.head()"
   ]
  },
  {
   "cell_type": "code",
   "execution_count": 4,
   "id": "4e0e6949-c735-4ce7-97af-4043b68fa6b0",
   "metadata": {},
   "outputs": [
    {
     "name": "stdout",
     "output_type": "stream",
     "text": [
      "Shape of features: (891, 6)\n",
      "Shape of labels: (891,)\n"
     ]
    }
   ],
   "source": [
    "import numpy as np\n",
    "\n",
    "X = df.drop(\"Survived\", axis=1).values  # Features\n",
    "y = df[\"Survived\"].values  # Labels\n",
    "\n",
    "print(\"Shape of features:\", X.shape)\n",
    "print(\"Shape of labels:\", y.shape)"
   ]
  },
  {
   "cell_type": "code",
   "execution_count": 5,
   "id": "db31f697-098b-4f2b-97f9-381dfc4d191d",
   "metadata": {},
   "outputs": [
    {
     "name": "stdout",
     "output_type": "stream",
     "text": [
      "Training set size: 712\n",
      "Testing set size: 179\n"
     ]
    }
   ],
   "source": [
    "# Shuffle and split data manually (without sklearn)\n",
    "\n",
    "np.random.seed(42)  # For reproducibility\n",
    "\n",
    "# Shuffle indices\n",
    "indices = np.arange(X.shape[0])\n",
    "np.random.shuffle(indices)\n",
    "\n",
    "# Shuffle X and y accordingly\n",
    "X = X[indices]\n",
    "y = y[indices]\n",
    "\n",
    "# Split index\n",
    "split_idx = int(0.8 * len(X))\n",
    "\n",
    "X_train, X_test = X[:split_idx], X[split_idx:]\n",
    "y_train, y_test = y[:split_idx], y[split_idx:]\n",
    "\n",
    "print(\"Training set size:\", X_train.shape[0])\n",
    "print(\"Testing set size:\", X_test.shape[0])"
   ]
  },
  {
   "cell_type": "markdown",
   "id": "055c86c4-bb56-4593-9f7f-92a331b5585c",
   "metadata": {},
   "source": [
    "### Data Preprocessing\n",
    "\n",
    "- Loaded Titanic dataset CSV files using Pandas.\n",
    "- Selected relevant features: Pclass, Sex (converted to numeric), Age, SibSp, Parch, Fare.\n",
    "- Filled missing Age values with the mean age.\n",
    "- Converted categorical 'Sex' column to numeric values (male=0, female=1).\n",
    "- Split the data into training (80%) and testing (20%) sets with shuffling.\n",
    "- No feature scaling was applied (optional improvement)."
   ]
  },
  {
   "cell_type": "code",
   "execution_count": 6,
   "id": "2b3a46e1-c8ab-4b51-9979-e7198ef264ec",
   "metadata": {},
   "outputs": [],
   "source": [
    "import numpy as np\n",
    "\n",
    "def naive_bayes_train(X_train, y_train):\n",
    "    classes = np.unique(y_train)\n",
    "    n_features = X_train.shape[1]\n",
    "\n",
    "    # Calculate prior probabilities P(class)\n",
    "    priors = {c: np.mean(y_train == c) for c in classes}\n",
    "\n",
    "    # Calculate mean and variance for each feature per class\n",
    "    summaries = {}\n",
    "    for c in classes:\n",
    "        X_c = X_train[y_train == c]\n",
    "        summaries[c] = {\n",
    "            \"mean\": X_c.mean(axis=0),\n",
    "            \"var\": X_c.var(axis=0) + 1e-6  # Add small value to avoid zero variance\n",
    "        }\n",
    "    return priors, summaries\n",
    "\n",
    "# Example usage (you will run after training):\n",
    "# priors, summaries = naive_bayes_train(X_train, y_train)"
   ]
  },
  {
   "cell_type": "code",
   "execution_count": 7,
   "id": "b17d8d41-0b9c-4b31-89c9-5426ae3e9ec7",
   "metadata": {},
   "outputs": [],
   "source": [
    "def gaussian_probability(x, mean, var):\n",
    "    exponent = np.exp(- ((x - mean) ** 2) / (2 * var))\n",
    "    return (1 / np.sqrt(2 * np.pi * var)) * exponent\n",
    "\n",
    "def naive_bayes_predict(priors, summaries, x):\n",
    "    posteriors = {}\n",
    "    for c, stats in summaries.items():\n",
    "        prior = np.log(priors[c])  # Use log for numerical stability\n",
    "        conditional = np.sum(np.log(gaussian_probability(x, stats[\"mean\"], stats[\"var\"])))\n",
    "        posteriors[c] = prior + conditional\n",
    "    return max(posteriors, key=posteriors.get)\n"
   ]
  },
  {
   "cell_type": "code",
   "execution_count": 8,
   "id": "649383b4-b636-4274-a449-d6202b06d587",
   "metadata": {},
   "outputs": [],
   "source": [
    "def naive_bayes_predict_batch(priors, summaries, X):\n",
    "    return np.array([naive_bayes_predict(priors, summaries, x) for x in X])\n",
    "\n",
    "# Example usage:\n",
    "# preds = naive_bayes_predict_batch(priors, summaries, X_test)\n"
   ]
  },
  {
   "cell_type": "code",
   "execution_count": 9,
   "id": "e1f4547a-8965-42bf-aacc-a227b5b95902",
   "metadata": {},
   "outputs": [
    {
     "name": "stdout",
     "output_type": "stream",
     "text": [
      "Naive Bayes Accuracy: 79.33%\n"
     ]
    }
   ],
   "source": [
    "priors, summaries = naive_bayes_train(X_train, y_train)\n",
    "predictions = naive_bayes_predict_batch(priors, summaries, X_test)\n",
    "\n",
    "accuracy = np.mean(predictions == y_test)\n",
    "print(f\"Naive Bayes Accuracy: {accuracy * 100:.2f}%\")\n"
   ]
  },
  {
   "cell_type": "markdown",
   "id": "08d987e5-2a9e-4f1f-92a5-3fb363c292ba",
   "metadata": {},
   "source": [
    "### Model Accuracy Results\n",
    "\n",
    "- Naive Bayes: ~79.33% accuracy  \n",
    "\n",
    "Naive Bayes performed better on this dataset likely due to its probabilistic assumptions fitting the feature distribution well."
   ]
  },
  {
   "cell_type": "code",
   "execution_count": 10,
   "id": "532e74e4-2135-4206-8f64-aebbdf324d4d",
   "metadata": {},
   "outputs": [],
   "source": [
    "import numpy as np\n",
    "\n",
    "def euclidean_distance(a, b):\n",
    "    return np.sqrt(np.sum((a - b) ** 2))"
   ]
  },
  {
   "cell_type": "code",
   "execution_count": 11,
   "id": "b2248025-62fd-47fb-aa25-66c203a247e1",
   "metadata": {},
   "outputs": [],
   "source": [
    "def knn_predict(X_train, y_train, x_test, k=3):\n",
    "    distances = []\n",
    "    for i in range(len(X_train)):\n",
    "        dist = euclidean_distance(X_train[i], x_test)\n",
    "        distances.append((dist, y_train[i]))\n",
    "    distances.sort(key=lambda x: x[0])\n",
    "    neighbors = distances[:k]\n",
    "    # Count classes in neighbors\n",
    "    classes = [neighbor[1] for neighbor in neighbors]\n",
    "    prediction = max(set(classes), key=classes.count)\n",
    "    return prediction\n"
   ]
  },
  {
   "cell_type": "code",
   "execution_count": 12,
   "id": "aff0e651-762d-42a3-b9ae-8de2263736ce",
   "metadata": {},
   "outputs": [],
   "source": [
    "def knn_predict_batch(X_train, y_train, X_test, k=3):\n",
    "    return np.array([knn_predict(X_train, y_train, x, k) for x in X_test])\n",
    "\n",
    "# Example usage:\n",
    "# preds = knn_predict_batch(X_train, y_train, X_test, k=3)\n"
   ]
  },
  {
   "cell_type": "code",
   "execution_count": 13,
   "id": "9b55f057-c02d-4d00-aafa-d09cd1262edd",
   "metadata": {},
   "outputs": [
    {
     "name": "stdout",
     "output_type": "stream",
     "text": [
      "KNN Accuracy (k=3): 72.07%\n"
     ]
    }
   ],
   "source": [
    "k = 3  # You can change this number later if you want\n",
    "knn_preds = knn_predict_batch(X_train, y_train, X_test, k)\n",
    "\n",
    "accuracy = np.mean(knn_preds == y_test)\n",
    "print(f\"KNN Accuracy (k={k}): {accuracy * 100:.2f}%\")\n"
   ]
  },
  {
   "cell_type": "markdown",
   "id": "0ca4fb4d-b96a-47aa-bbe7-359c896b29e5",
   "metadata": {},
   "source": [
    "### Model Accuracy Results\n",
    "\n",
    "- Naive Bayes: ~79.33% accuracy  \n",
    "- K-Nearest Neighbors (k=3): ~72.07% accuracy  \n",
    "\n",
    "Naive Bayes performed better on this dataset likely due to its probabilistic assumptions fitting the feature distribution well,  \n",
    "while KNN accuracy depends on the choice of k and the distance metric used."
   ]
  },
  {
   "cell_type": "code",
   "execution_count": 14,
   "id": "97e96a55-f0bf-4512-81fa-c333e5882bb2",
   "metadata": {
    "scrolled": true
   },
   "outputs": [
    {
     "data": {
      "image/png": "[encoded data removed]",
      "text/plain": [
       "<Figure size 640x480 with 1 Axes>"
      ]
     },
     "metadata": {},
     "output_type": "display_data"
    }
   ],
   "source": [
    "import matplotlib.pyplot as plt\n",
    "\n",
    "counts = df[\"Survived\"].value_counts()\n",
    "plt.bar([\"Did not survive\", \"Survived\"], counts, color=[\"red\", \"green\"])\n",
    "plt.title(\"Survival Counts in Training Data\")\n",
    "plt.ylabel(\"Number of Passengers\")\n",
    "plt.show()\n"
   ]
  },
  {
   "cell_type": "markdown",
   "id": "c0916035-ed14-4b60-981a-aa99a2be4a4c",
   "metadata": {},
   "source": [
    "### Data Visualization\n",
    "\n",
    "This bar chart shows the count of passengers who survived versus those who did not survive in the Titanic dataset.  \n",
    "It helps to visualize the distribution of the target variable and understand class imbalance, if any.\n"
   ]
  }
 ],
 "metadata": {
  "kernelspec": {
   "display_name": "Python 3 (ipykernel)",
   "language": "python",
   "name": "python3"
  },
  "language_info": {
   "codemirror_mode": {
    "name": "ipython",
    "version": 3
   },
   "file_extension": ".py",
   "mimetype": "text/x-python",
   "name": "python",
   "nbconvert_exporter": "python",
   "pygments_lexer": "ipython3",
   "version": "3.12.8"
  }
 },
 "nbformat": 4,
 "nbformat_minor": 5
}
